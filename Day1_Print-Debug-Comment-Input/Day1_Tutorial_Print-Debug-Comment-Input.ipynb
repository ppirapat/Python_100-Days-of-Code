{
 "cells": [
  {
   "cell_type": "markdown",
   "id": "a5286313",
   "metadata": {},
   "source": [
    "**Commenting**"
   ]
  },
  {
   "cell_type": "code",
   "execution_count": null,
   "id": "ece0f2a4",
   "metadata": {},
   "outputs": [
    {
     "name": "stdout",
     "output_type": "stream",
     "text": [
      "Hello World!\n"
     ]
    }
   ],
   "source": [
    "# Shortcut: Ctrl + /\n",
    "# Single line commenting\n",
    "'''\n",
    "Multiple line commenting\n",
    "'''\n",
    "\n",
    "# Run to check if the code works - If it works, it means the code has no bug.\n",
    "print(\"Hello World!\")"
   ]
  },
  {
   "cell_type": "markdown",
   "id": "6e625e90",
   "metadata": {},
   "source": [
    "**Printing (Output)**"
   ]
  },
  {
   "cell_type": "code",
   "execution_count": 12,
   "id": "21356774",
   "metadata": {},
   "outputs": [
    {
     "name": "stdout",
     "output_type": "stream",
     "text": [
      "Hello World 1\n",
      "Hello World 2\n",
      "Hello 'World'\n",
      "Hello \"World\"\n",
      "Hello \"World\"\n",
      "\n",
      "Line1 \n",
      "Line2\n",
      "\n",
      "Hello World\n"
     ]
    }
   ],
   "source": [
    "# Basic Printing using \"\" and '' - This returns string.\n",
    "print(\"Hello World 1\")\n",
    "print('Hello World 2')\n",
    "print(\"Hello 'World'\")\n",
    "print('Hello \"World\"')\n",
    "print(\"Hello \\\"World\\\"\")\n",
    "\n",
    "# <br>\n",
    "print(\"\\nLine1 \\nLine2\\n\")\n",
    "\n",
    "print(\"Hello\" + ' ' + \"World\")\n",
    "      "
   ]
  },
  {
   "cell_type": "code",
   "execution_count": null,
   "id": "3513200e",
   "metadata": {},
   "outputs": [],
   "source": []
  }
 ],
 "metadata": {
  "kernelspec": {
   "display_name": "env_100DoC",
   "language": "python",
   "name": "python3"
  },
  "language_info": {
   "codemirror_mode": {
    "name": "ipython",
    "version": 3
   },
   "file_extension": ".py",
   "mimetype": "text/x-python",
   "name": "python",
   "nbconvert_exporter": "python",
   "pygments_lexer": "ipython3",
   "version": "3.12.7"
  }
 },
 "nbformat": 4,
 "nbformat_minor": 5
}
